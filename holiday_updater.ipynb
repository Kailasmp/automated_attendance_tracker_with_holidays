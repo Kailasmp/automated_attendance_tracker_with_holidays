{
 "cells": [
  {
   "cell_type": "code",
   "execution_count": 9,
   "id": "1afa4deb-bd81-4250-a4c1-2221990615e4",
   "metadata": {},
   "outputs": [
    {
     "name": "stdout",
     "output_type": "stream",
     "text": [
      "Requirement already satisfied: pandas in c:\\users\\kaila\\anaconda3\\lib\\site-packages (2.2.2)\n",
      "Requirement already satisfied: openpyxl in c:\\users\\kaila\\anaconda3\\lib\\site-packages (3.1.2)\n",
      "Requirement already satisfied: numpy>=1.26.0 in c:\\users\\kaila\\anaconda3\\lib\\site-packages (from pandas) (1.26.4)\n",
      "Requirement already satisfied: python-dateutil>=2.8.2 in c:\\users\\kaila\\anaconda3\\lib\\site-packages (from pandas) (2.9.0.post0)\n",
      "Requirement already satisfied: pytz>=2020.1 in c:\\users\\kaila\\anaconda3\\lib\\site-packages (from pandas) (2024.1)\n",
      "Requirement already satisfied: tzdata>=2022.7 in c:\\users\\kaila\\anaconda3\\lib\\site-packages (from pandas) (2023.3)\n",
      "Requirement already satisfied: et-xmlfile in c:\\users\\kaila\\anaconda3\\lib\\site-packages (from openpyxl) (1.1.0)\n",
      "Requirement already satisfied: six>=1.5 in c:\\users\\kaila\\anaconda3\\lib\\site-packages (from python-dateutil>=2.8.2->pandas) (1.16.0)\n",
      "Note: you may need to restart the kernel to use updated packages.\n"
     ]
    }
   ],
   "source": [
    "pip install pandas openpyxl"
   ]
  },
  {
   "cell_type": "code",
   "execution_count": 1,
   "id": "3b6feaac-2c8c-439f-ae8b-d8f0604bb738",
   "metadata": {},
   "outputs": [],
   "source": [
    "import numpy as np"
   ]
  },
  {
   "cell_type": "code",
   "execution_count": 7,
   "id": "c86a3b67-4de6-4bbb-b2c0-800805aaec85",
   "metadata": {},
   "outputs": [
    {
     "name": "stdout",
     "output_type": "stream",
     "text": [
      "\n",
      "Holiday Sheet:\n",
      "        Date         Holiday\n",
      "0 2024-12-25       Christmas\n",
      "1 2024-12-31  New Year's Eve\n",
      "\n",
      "Attendance Sheet (Sheet 2):\n",
      "        Date Employee Name Attendance\n",
      "0 2024-12-01      John Doe    Present\n",
      "1 2024-12-01    Jane Smith     Absent\n",
      "2 2024-12-02      John Doe    Present\n",
      "3 2024-12-02    Jane Smith    Present\n",
      "4 2024-12-25      John Doe    Present\n",
      "5 2024-12-25    Jane Smith     Absent\n",
      "\n",
      "Updated Attendance Sheet :\n",
      "        Date Employee Name Attendance\n",
      "0 2024-12-01      John Doe    Present\n",
      "1 2024-12-01    Jane Smith     Absent\n",
      "2 2024-12-02      John Doe    Present\n",
      "3 2024-12-02    Jane Smith    Present\n",
      "4 2024-12-25      John Doe  Christmas\n",
      "5 2024-12-25    Jane Smith  Christmas\n",
      "\n",
      "Sheet 2 updated successfully. Check 'updated_sheet2_no_column.xlsx'.\n"
     ]
    }
   ],
   "source": [
    "import pandas as pd\n",
    "\n",
    "# File paths\n",
    "sheet2_path = \"sheet2.xlsx\"       \n",
    "holidays_path = \"holidays.xlsx\"   \n",
    "\n",
    "# Load Sheet 2 (attendance data)\n",
    "try:\n",
    "    sheet2 = pd.read_excel(sheet2_path)\n",
    "except FileNotFoundError:\n",
    "    raise FileNotFoundError(\"Attendance sheet (sheet2.xlsx) is missing. Please create it.\")\n",
    "\n",
    "# Load Holidays\n",
    "try:\n",
    "    holidays = pd.read_excel(holidays_path)\n",
    "except FileNotFoundError:\n",
    "    raise FileNotFoundError(\"Holiday sheet (holidays.xlsx) is missing. Please create it.\")\n",
    "\n",
    "# Print the loaded DataFrames to ensure data is read correctly\n",
    "print(\"\\nHoliday Sheet:\")\n",
    "print(holidays)\n",
    "\n",
    "print(\"\\nAttendance Sheet (Sheet 2):\")\n",
    "print(sheet2)\n",
    "\n",
    "# Ensure the 'Present/Absent' column exists\n",
    "if 'Present/Absent' not in sheet2.columns:\n",
    "    sheet2['Present/Absent'] = \"\"\n",
    "    \n",
    "for _, holiday in holidays.iterrows():\n",
    "    holiday_date = holiday[\"Date\"]\n",
    "    holiday_name = holiday[\"Holiday\"]\n",
    "\n",
    "    sheet2.loc[sheet2['Date'] == holiday_date, 'Attendance'] = holiday_name\n",
    "\n",
    "sheet2 = sheet2.drop(columns=['Present/Absent'])\n",
    "\n",
    "sheet2.to_excel(\"updated_sheet2_no_column.xlsx\", index=False)\n",
    "\n",
    "print(\"\\nUpdated Attendance Sheet :\")\n",
    "print(sheet2)\n",
    "\n",
    "\n",
    "\n",
    "print(\"\\nSheet 2 updated successfully. Check 'updated_sheet2_no_column.xlsx'.\")\n"
   ]
  },
  {
   "cell_type": "code",
   "execution_count": null,
   "id": "b2615319-92a5-46d6-b770-7be8690919eb",
   "metadata": {},
   "outputs": [],
   "source": []
  }
 ],
 "metadata": {
  "kernelspec": {
   "display_name": "Python 3 (ipykernel)",
   "language": "python",
   "name": "python3"
  },
  "language_info": {
   "codemirror_mode": {
    "name": "ipython",
    "version": 3
   },
   "file_extension": ".py",
   "mimetype": "text/x-python",
   "name": "python",
   "nbconvert_exporter": "python",
   "pygments_lexer": "ipython3",
   "version": "3.11.10"
  }
 },
 "nbformat": 4,
 "nbformat_minor": 5
}
